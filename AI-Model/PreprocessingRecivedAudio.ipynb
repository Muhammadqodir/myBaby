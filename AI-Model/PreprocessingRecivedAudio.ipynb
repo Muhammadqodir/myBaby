{
 "cells": [
  {
   "cell_type": "code",
   "execution_count": 2,
   "id": "46f5f031-5f42-412b-ab78-95c2167cae40",
   "metadata": {},
   "outputs": [],
   "source": [
    "import pickle\n",
    "import os\n",
    "with open('LM.pkl', 'rb') as f:\n",
    "    clf = pickle.load(f)\n",
    "\n",
    "def convert2vaw(fName):\n",
    "    os.system('ffmpeg -i '+fName+' out.wav')\n"
   ]
  }
 ],
 "metadata": {
  "kernelspec": {
   "display_name": "Python 3 (ipykernel)",
   "language": "python",
   "name": "python3"
  },
  "language_info": {
   "codemirror_mode": {
    "name": "ipython",
    "version": 3
   },
   "file_extension": ".py",
   "mimetype": "text/x-python",
   "name": "python",
   "nbconvert_exporter": "python",
   "pygments_lexer": "ipython3",
   "version": "3.9.6"
  }
 },
 "nbformat": 4,
 "nbformat_minor": 5
}
